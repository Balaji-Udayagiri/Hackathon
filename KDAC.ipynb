{
  "cells": [
    {
      "cell_type": "markdown",
      "metadata": {
        "id": "view-in-github",
        "colab_type": "text"
      },
      "source": [
        "<a href=\"https://colab.research.google.com/github/Balaji-Udayagiri/C/blob/master/KDAC.ipynb\" target=\"_parent\"><img src=\"https://colab.research.google.com/assets/colab-badge.svg\" alt=\"Open In Colab\"/></a>"
      ]
    },
    {
      "cell_type": "code",
      "execution_count": null,
      "metadata": {
        "colab": {
          "base_uri": "https://localhost:8080/"
        },
        "id": "fbgLy2TuZJjH",
        "outputId": "d8b15378-e19f-4ea7-adfb-1e66a6474a39"
      },
      "outputs": [
        {
          "output_type": "stream",
          "name": "stdout",
          "text": [
            "Mounted at /content/drive\n"
          ]
        }
      ],
      "source": [
        "import pandas as pd\n",
        "import os\n",
        "from datetime import datetime\n",
        "import matplotlib as mlp\n",
        "import matplotlib.pyplot as plt\n",
        "import numpy as np\n",
        "\n",
        "from google.colab import drive\n",
        "drive.mount('/content/drive')"
      ]
    },
    {
      "cell_type": "code",
      "execution_count": null,
      "metadata": {
        "colab": {
          "base_uri": "https://localhost:8080/"
        },
        "id": "9tZ1U4-yaiL2",
        "outputId": "4f53e8aa-1dae-49a2-8a00-6c49ab1c7077"
      },
      "outputs": [
        {
          "output_type": "stream",
          "name": "stdout",
          "text": [
            "/content/drive/MyDrive/Colab Notebooks\n"
          ]
        }
      ],
      "source": [
        "cd drive/MyDrive/'Colab Notebooks'"
      ]
    },
    {
      "cell_type": "code",
      "execution_count": null,
      "metadata": {
        "id": "P9O-hOtGI_nd"
      },
      "outputs": [],
      "source": [
        "def convert_to_date(x):\n",
        "    return datetime.strptime(str(x), '%Y%m%d')\n",
        " \n",
        "def convert_to_datep(x):\n",
        "    return datetime.strptime(str(x), '%m/%d/%Y')\n",
        " \n",
        "def convert_to_dated(x):\n",
        "    return datetime.strptime(str(x), '%Y-%m-%d')"
      ]
    },
    {
      "cell_type": "code",
      "execution_count": null,
      "metadata": {
        "colab": {
          "base_uri": "https://localhost:8080/"
        },
        "id": "FHkGHJjx_wqz",
        "outputId": "4757a550-2a49-459f-de24-624425dae7cb"
      },
      "outputs": [
        {
          "name": "stdout",
          "output_type": "stream",
          "text": [
            "/content/drive/MyDrive/Colab Notebooks\n"
          ]
        }
      ],
      "source": [
        "df = pd.read_csv(\"HCP_Data_KDAG_Hackathon.csv\", parse_dates = ['Time_Period'], date_parser = convert_to_date)\n",
        "df2 = pd.read_csv(\"Patient_Data_KDAG_Hackathon.csv\", parse_dates = ['Date_of_Visit'], date_parser = convert_to_datep)"
      ]
    },
    {
      "cell_type": "code",
      "execution_count": null,
      "metadata": {
        "id": "KArMwDWagkby"
      },
      "outputs": [],
      "source": [
        "from pandas.tseries.offsets import *"
      ]
    },
    {
      "cell_type": "code",
      "execution_count": null,
      "metadata": {
        "id": "0Q_VNgU2k5Gj"
      },
      "outputs": [],
      "source": [
        "df2['weekDay'] = df2['Date_of_Visit'].where( df2['Date_of_Visit'] == (( df2['Date_of_Visit'] + Week(weekday=4) ) - Week()), df2['Date_of_Visit'] + Week(weekday=4))\n",
        "patient = df2.groupby(['Physician_ID', 'weekDay'])['Patient ID'].count()\n",
        "patient = patient.reset_index()"
      ]
    },
    {
      "cell_type": "code",
      "execution_count": null,
      "metadata": {
        "colab": {
          "base_uri": "https://localhost:8080/"
        },
        "id": "brDpbGGwk46q",
        "outputId": "4a35e30b-f157-45df-8c9d-da97bbbc6d49"
      },
      "outputs": [
        {
          "name": "stdout",
          "output_type": "stream",
          "text": [
            "213836\n"
          ]
        }
      ],
      "source": [
        "j = 0\n",
        "for i in range(0, 213836):\n",
        "  phy = patient.loc[i, 'Physician_ID']\n",
        "  dy = patient.loc[i, 'weekDay']\n",
        "  val = patient.loc[i, 'Patient ID']\n",
        "\n",
        "  while (j < 570000) and (df.loc[j, 'Physician_ID'] != phy or df.loc[j, 'Time_Period'] != dy): j += 1\n",
        "\n",
        "  if j >= 570000: break\n",
        "  df.loc[j, 'patient'] = val"
      ]
    },
    {
      "cell_type": "code",
      "execution_count": null,
      "metadata": {
        "id": "unGvJZPfv1wG"
      },
      "outputs": [],
      "source": [
        "#df.to_csv('data.csv', index = False)\n",
        "df_og = df.copy()"
      ]
    },
    {
      "cell_type": "code",
      "execution_count": null,
      "metadata": {
        "id": "UP2W7H82oSNp"
      },
      "outputs": [],
      "source": [
        "df = pd.read_csv(\"data.csv\", parse_dates = ['Time_Period'], date_parser = convert_to_dated)"
      ]
    },
    {
      "cell_type": "code",
      "execution_count": null,
      "metadata": {
        "colab": {
          "base_uri": "https://localhost:8080/",
          "height": 488
        },
        "id": "jMXAxRJxoeC8",
        "outputId": "89500f49-5ec6-4930-8b62-9ef13194448b"
      },
      "outputs": [
        {
          "data": {
            "text/html": [
              "\n",
              "  <div id=\"df-3f4dc4c5-5141-47e3-835e-3be23b9d79e5\">\n",
              "    <div class=\"colab-df-container\">\n",
              "      <div>\n",
              "<style scoped>\n",
              "    .dataframe tbody tr th:only-of-type {\n",
              "        vertical-align: middle;\n",
              "    }\n",
              "\n",
              "    .dataframe tbody tr th {\n",
              "        vertical-align: top;\n",
              "    }\n",
              "\n",
              "    .dataframe thead th {\n",
              "        text-align: right;\n",
              "    }\n",
              "</style>\n",
              "<table border=\"1\" class=\"dataframe\">\n",
              "  <thead>\n",
              "    <tr style=\"text-align: right;\">\n",
              "      <th></th>\n",
              "      <th>Physician_ID</th>\n",
              "      <th>Time_Period</th>\n",
              "      <th>Brand_Rx</th>\n",
              "      <th>Market_Rx</th>\n",
              "      <th>Sales_Rep_Calls</th>\n",
              "      <th>Samples_Dropped</th>\n",
              "      <th>Physician_Segment</th>\n",
              "      <th>Emails_Delivered</th>\n",
              "      <th>Specialty</th>\n",
              "      <th>patient</th>\n",
              "    </tr>\n",
              "  </thead>\n",
              "  <tbody>\n",
              "    <tr>\n",
              "      <th>0</th>\n",
              "      <td>axt00001</td>\n",
              "      <td>2019-01-04</td>\n",
              "      <td>0.0</td>\n",
              "      <td>2.80567</td>\n",
              "      <td>1</td>\n",
              "      <td>0</td>\n",
              "      <td>3-Low</td>\n",
              "      <td>0</td>\n",
              "      <td>Dermatologist</td>\n",
              "      <td>0</td>\n",
              "    </tr>\n",
              "    <tr>\n",
              "      <th>1</th>\n",
              "      <td>axt00001</td>\n",
              "      <td>2019-01-11</td>\n",
              "      <td>0.0</td>\n",
              "      <td>20.57312</td>\n",
              "      <td>1</td>\n",
              "      <td>0</td>\n",
              "      <td>3-Low</td>\n",
              "      <td>0</td>\n",
              "      <td>Dermatologist</td>\n",
              "      <td>0</td>\n",
              "    </tr>\n",
              "    <tr>\n",
              "      <th>2</th>\n",
              "      <td>axt00001</td>\n",
              "      <td>2019-01-18</td>\n",
              "      <td>0.0</td>\n",
              "      <td>6.16010</td>\n",
              "      <td>1</td>\n",
              "      <td>0</td>\n",
              "      <td>3-Low</td>\n",
              "      <td>0</td>\n",
              "      <td>Dermatologist</td>\n",
              "      <td>0</td>\n",
              "    </tr>\n",
              "    <tr>\n",
              "      <th>3</th>\n",
              "      <td>axt00001</td>\n",
              "      <td>2019-01-25</td>\n",
              "      <td>0.0</td>\n",
              "      <td>8.95501</td>\n",
              "      <td>1</td>\n",
              "      <td>5</td>\n",
              "      <td>3-Low</td>\n",
              "      <td>0</td>\n",
              "      <td>Dermatologist</td>\n",
              "      <td>0</td>\n",
              "    </tr>\n",
              "    <tr>\n",
              "      <th>4</th>\n",
              "      <td>axt00001</td>\n",
              "      <td>2019-02-01</td>\n",
              "      <td>0.0</td>\n",
              "      <td>9.13793</td>\n",
              "      <td>1</td>\n",
              "      <td>0</td>\n",
              "      <td>3-Low</td>\n",
              "      <td>0</td>\n",
              "      <td>Dermatologist</td>\n",
              "      <td>0</td>\n",
              "    </tr>\n",
              "    <tr>\n",
              "      <th>...</th>\n",
              "      <td>...</td>\n",
              "      <td>...</td>\n",
              "      <td>...</td>\n",
              "      <td>...</td>\n",
              "      <td>...</td>\n",
              "      <td>...</td>\n",
              "      <td>...</td>\n",
              "      <td>...</td>\n",
              "      <td>...</td>\n",
              "      <td>...</td>\n",
              "    </tr>\n",
              "    <tr>\n",
              "      <th>569995</th>\n",
              "      <td>axt10000</td>\n",
              "      <td>2020-01-03</td>\n",
              "      <td>0.0</td>\n",
              "      <td>2.45597</td>\n",
              "      <td>0</td>\n",
              "      <td>0</td>\n",
              "      <td>3-Low</td>\n",
              "      <td>1</td>\n",
              "      <td>Dermatologist</td>\n",
              "      <td>0</td>\n",
              "    </tr>\n",
              "    <tr>\n",
              "      <th>569996</th>\n",
              "      <td>axt10000</td>\n",
              "      <td>2020-01-10</td>\n",
              "      <td>0.0</td>\n",
              "      <td>2.38065</td>\n",
              "      <td>0</td>\n",
              "      <td>0</td>\n",
              "      <td>3-Low</td>\n",
              "      <td>0</td>\n",
              "      <td>Dermatologist</td>\n",
              "      <td>0</td>\n",
              "    </tr>\n",
              "    <tr>\n",
              "      <th>569997</th>\n",
              "      <td>axt10000</td>\n",
              "      <td>2020-01-17</td>\n",
              "      <td>0.0</td>\n",
              "      <td>7.42171</td>\n",
              "      <td>0</td>\n",
              "      <td>0</td>\n",
              "      <td>3-Low</td>\n",
              "      <td>1</td>\n",
              "      <td>Dermatologist</td>\n",
              "      <td>0</td>\n",
              "    </tr>\n",
              "    <tr>\n",
              "      <th>569998</th>\n",
              "      <td>axt10000</td>\n",
              "      <td>2020-01-24</td>\n",
              "      <td>0.0</td>\n",
              "      <td>5.39345</td>\n",
              "      <td>0</td>\n",
              "      <td>0</td>\n",
              "      <td>3-Low</td>\n",
              "      <td>1</td>\n",
              "      <td>Dermatologist</td>\n",
              "      <td>0</td>\n",
              "    </tr>\n",
              "    <tr>\n",
              "      <th>569999</th>\n",
              "      <td>axt10000</td>\n",
              "      <td>2020-01-31</td>\n",
              "      <td>0.0</td>\n",
              "      <td>0.00000</td>\n",
              "      <td>0</td>\n",
              "      <td>0</td>\n",
              "      <td>3-Low</td>\n",
              "      <td>0</td>\n",
              "      <td>Dermatologist</td>\n",
              "      <td>0</td>\n",
              "    </tr>\n",
              "  </tbody>\n",
              "</table>\n",
              "<p>570000 rows × 10 columns</p>\n",
              "</div>\n",
              "      <button class=\"colab-df-convert\" onclick=\"convertToInteractive('df-3f4dc4c5-5141-47e3-835e-3be23b9d79e5')\"\n",
              "              title=\"Convert this dataframe to an interactive table.\"\n",
              "              style=\"display:none;\">\n",
              "        \n",
              "  <svg xmlns=\"http://www.w3.org/2000/svg\" height=\"24px\"viewBox=\"0 0 24 24\"\n",
              "       width=\"24px\">\n",
              "    <path d=\"M0 0h24v24H0V0z\" fill=\"none\"/>\n",
              "    <path d=\"M18.56 5.44l.94 2.06.94-2.06 2.06-.94-2.06-.94-.94-2.06-.94 2.06-2.06.94zm-11 1L8.5 8.5l.94-2.06 2.06-.94-2.06-.94L8.5 2.5l-.94 2.06-2.06.94zm10 10l.94 2.06.94-2.06 2.06-.94-2.06-.94-.94-2.06-.94 2.06-2.06.94z\"/><path d=\"M17.41 7.96l-1.37-1.37c-.4-.4-.92-.59-1.43-.59-.52 0-1.04.2-1.43.59L10.3 9.45l-7.72 7.72c-.78.78-.78 2.05 0 2.83L4 21.41c.39.39.9.59 1.41.59.51 0 1.02-.2 1.41-.59l7.78-7.78 2.81-2.81c.8-.78.8-2.07 0-2.86zM5.41 20L4 18.59l7.72-7.72 1.47 1.35L5.41 20z\"/>\n",
              "  </svg>\n",
              "      </button>\n",
              "      \n",
              "  <style>\n",
              "    .colab-df-container {\n",
              "      display:flex;\n",
              "      flex-wrap:wrap;\n",
              "      gap: 12px;\n",
              "    }\n",
              "\n",
              "    .colab-df-convert {\n",
              "      background-color: #E8F0FE;\n",
              "      border: none;\n",
              "      border-radius: 50%;\n",
              "      cursor: pointer;\n",
              "      display: none;\n",
              "      fill: #1967D2;\n",
              "      height: 32px;\n",
              "      padding: 0 0 0 0;\n",
              "      width: 32px;\n",
              "    }\n",
              "\n",
              "    .colab-df-convert:hover {\n",
              "      background-color: #E2EBFA;\n",
              "      box-shadow: 0px 1px 2px rgba(60, 64, 67, 0.3), 0px 1px 3px 1px rgba(60, 64, 67, 0.15);\n",
              "      fill: #174EA6;\n",
              "    }\n",
              "\n",
              "    [theme=dark] .colab-df-convert {\n",
              "      background-color: #3B4455;\n",
              "      fill: #D2E3FC;\n",
              "    }\n",
              "\n",
              "    [theme=dark] .colab-df-convert:hover {\n",
              "      background-color: #434B5C;\n",
              "      box-shadow: 0px 1px 3px 1px rgba(0, 0, 0, 0.15);\n",
              "      filter: drop-shadow(0px 1px 2px rgba(0, 0, 0, 0.3));\n",
              "      fill: #FFFFFF;\n",
              "    }\n",
              "  </style>\n",
              "\n",
              "      <script>\n",
              "        const buttonEl =\n",
              "          document.querySelector('#df-3f4dc4c5-5141-47e3-835e-3be23b9d79e5 button.colab-df-convert');\n",
              "        buttonEl.style.display =\n",
              "          google.colab.kernel.accessAllowed ? 'block' : 'none';\n",
              "\n",
              "        async function convertToInteractive(key) {\n",
              "          const element = document.querySelector('#df-3f4dc4c5-5141-47e3-835e-3be23b9d79e5');\n",
              "          const dataTable =\n",
              "            await google.colab.kernel.invokeFunction('convertToInteractive',\n",
              "                                                     [key], {});\n",
              "          if (!dataTable) return;\n",
              "\n",
              "          const docLinkHtml = 'Like what you see? Visit the ' +\n",
              "            '<a target=\"_blank\" href=https://colab.research.google.com/notebooks/data_table.ipynb>data table notebook</a>'\n",
              "            + ' to learn more about interactive tables.';\n",
              "          element.innerHTML = '';\n",
              "          dataTable['output_type'] = 'display_data';\n",
              "          await google.colab.output.renderOutput(dataTable, element);\n",
              "          const docLink = document.createElement('div');\n",
              "          docLink.innerHTML = docLinkHtml;\n",
              "          element.appendChild(docLink);\n",
              "        }\n",
              "      </script>\n",
              "    </div>\n",
              "  </div>\n",
              "  "
            ],
            "text/plain": [
              "       Physician_ID Time_Period  Brand_Rx  Market_Rx  Sales_Rep_Calls  \\\n",
              "0          axt00001  2019-01-04       0.0    2.80567                1   \n",
              "1          axt00001  2019-01-11       0.0   20.57312                1   \n",
              "2          axt00001  2019-01-18       0.0    6.16010                1   \n",
              "3          axt00001  2019-01-25       0.0    8.95501                1   \n",
              "4          axt00001  2019-02-01       0.0    9.13793                1   \n",
              "...             ...         ...       ...        ...              ...   \n",
              "569995     axt10000  2020-01-03       0.0    2.45597                0   \n",
              "569996     axt10000  2020-01-10       0.0    2.38065                0   \n",
              "569997     axt10000  2020-01-17       0.0    7.42171                0   \n",
              "569998     axt10000  2020-01-24       0.0    5.39345                0   \n",
              "569999     axt10000  2020-01-31       0.0    0.00000                0   \n",
              "\n",
              "        Samples_Dropped Physician_Segment  Emails_Delivered      Specialty  \\\n",
              "0                     0             3-Low                 0  Dermatologist   \n",
              "1                     0             3-Low                 0  Dermatologist   \n",
              "2                     0             3-Low                 0  Dermatologist   \n",
              "3                     5             3-Low                 0  Dermatologist   \n",
              "4                     0             3-Low                 0  Dermatologist   \n",
              "...                 ...               ...               ...            ...   \n",
              "569995                0             3-Low                 1  Dermatologist   \n",
              "569996                0             3-Low                 0  Dermatologist   \n",
              "569997                0             3-Low                 1  Dermatologist   \n",
              "569998                0             3-Low                 1  Dermatologist   \n",
              "569999                0             3-Low                 0  Dermatologist   \n",
              "\n",
              "        patient  \n",
              "0             0  \n",
              "1             0  \n",
              "2             0  \n",
              "3             0  \n",
              "4             0  \n",
              "...         ...  \n",
              "569995        0  \n",
              "569996        0  \n",
              "569997        0  \n",
              "569998        0  \n",
              "569999        0  \n",
              "\n",
              "[570000 rows x 10 columns]"
            ]
          },
          "execution_count": 12,
          "metadata": {},
          "output_type": "execute_result"
        }
      ],
      "source": [
        "df"
      ]
    },
    {
      "cell_type": "code",
      "execution_count": null,
      "metadata": {
        "id": "T8G0cVdmA8A5"
      },
      "outputs": [],
      "source": [
        "df = df.drop(['Speaker_Programs_Attended', 'Vouchers_Dropped'], axis = 1)"
      ]
    },
    {
      "cell_type": "code",
      "execution_count": null,
      "metadata": {
        "id": "mK3rDSJPD-a9"
      },
      "outputs": [],
      "source": [
        "df_timed = df.copy()\n",
        "df_timeIndexed = df.set_index('Time_Period')"
      ]
    },
    {
      "cell_type": "code",
      "execution_count": null,
      "metadata": {
        "colab": {
          "base_uri": "https://localhost:8080/"
        },
        "id": "nrahot8KwTVQ",
        "outputId": "002cf57f-cc22-49be-b421-d19b95770d6b"
      },
      "outputs": [
        {
          "name": "stderr",
          "output_type": "stream",
          "text": [
            "<ipython-input-14-fc3d82fcf12e>:2: FutureWarning: Indexing a DataFrame with a datetimelike index using a single string to slice the rows, like `frame[string]`, is deprecated and will be removed in a future version. Use `frame.loc[string]` instead.\n",
            "  doctors = df_timeIndexed['2019-01-04'] [['Physician_ID', 'Physician_Segment']].reset_index().drop(['Time_Period'], axis = 1)\n"
          ]
        }
      ],
      "source": [
        "#no of sales call in last 51 week for each doc\n",
        "doctors = df_timeIndexed['2019-01-04'] [['Physician_ID', 'Physician_Segment']].reset_index().drop(['Time_Period'], axis = 1)\n",
        "\n",
        "callDet = [sum(df.loc[i*57-51:i*57, 'Sales_Rep_Calls']) for i in range(1, 10001)]\n",
        "\n",
        "doctors = doctors.join(pd.DataFrame(callDet, columns=['NoOfCalls']))"
      ]
    },
    {
      "cell_type": "code",
      "execution_count": null,
      "metadata": {
        "id": "1Ni9NQSCA7zi"
      },
      "outputs": [],
      "source": [
        "from sklearn.preprocessing import OneHotEncoder\n",
        "\n",
        "encoder = OneHotEncoder(handle_unknown='ignore')\n",
        "encoder_df = pd.DataFrame(encoder.fit_transform(df[['Physician_Segment', 'Specialty']]).toarray())\n",
        "df = df.join(encoder_df)\n",
        "df_encoded = df"
      ]
    },
    {
      "cell_type": "code",
      "execution_count": null,
      "metadata": {
        "id": "bH_9oh-HA6Pl"
      },
      "outputs": [],
      "source": [
        "df = df.drop(['Physician_Segment', 'Specialty'], axis = 1)\n",
        "df_encoded = df"
      ]
    },
    {
      "cell_type": "code",
      "execution_count": null,
      "metadata": {
        "id": "jAMTUd7GZWyS"
      },
      "outputs": [],
      "source": [
        "df = df_encoded"
      ]
    },
    {
      "cell_type": "code",
      "execution_count": null,
      "metadata": {
        "id": "-ywJk6KeS4qe"
      },
      "outputs": [],
      "source": [
        "df = df.drop(['Physician_ID', 'Time_Period'], axis = 1)"
      ]
    },
    {
      "cell_type": "code",
      "execution_count": null,
      "metadata": {
        "id": "kLHmfmHlONVo"
      },
      "outputs": [],
      "source": [
        "df.columns = df.columns.map(str)"
      ]
    },
    {
      "cell_type": "code",
      "execution_count": null,
      "metadata": {
        "id": "T3YnOVYyDsLf"
      },
      "outputs": [],
      "source": [
        "from sklearn.preprocessing import MinMaxScaler, StandardScaler\n",
        "\n",
        "scaler = MinMaxScaler()\n",
        "df[['Market_Rx', 'patient']] = scaler.fit_transform(df[['Market_Rx', 'patient']])"
      ]
    },
    {
      "cell_type": "code",
      "execution_count": null,
      "metadata": {
        "colab": {
          "base_uri": "https://localhost:8080/",
          "height": 488
        },
        "id": "Ru8YbIViKcsy",
        "outputId": "0d8ebd56-b57b-4d23-bfcd-79afbeccdc1d"
      },
      "outputs": [
        {
          "data": {
            "text/html": [
              "\n",
              "  <div id=\"df-3609180e-46c2-4282-bf4b-c06b81f174a0\">\n",
              "    <div class=\"colab-df-container\">\n",
              "      <div>\n",
              "<style scoped>\n",
              "    .dataframe tbody tr th:only-of-type {\n",
              "        vertical-align: middle;\n",
              "    }\n",
              "\n",
              "    .dataframe tbody tr th {\n",
              "        vertical-align: top;\n",
              "    }\n",
              "\n",
              "    .dataframe thead th {\n",
              "        text-align: right;\n",
              "    }\n",
              "</style>\n",
              "<table border=\"1\" class=\"dataframe\">\n",
              "  <thead>\n",
              "    <tr style=\"text-align: right;\">\n",
              "      <th></th>\n",
              "      <th>Brand_Rx</th>\n",
              "      <th>Market_Rx</th>\n",
              "      <th>Sales_Rep_Calls</th>\n",
              "      <th>Samples_Dropped</th>\n",
              "      <th>Emails_Delivered</th>\n",
              "      <th>patient</th>\n",
              "      <th>0</th>\n",
              "      <th>1</th>\n",
              "      <th>2</th>\n",
              "      <th>3</th>\n",
              "      <th>4</th>\n",
              "      <th>5</th>\n",
              "    </tr>\n",
              "  </thead>\n",
              "  <tbody>\n",
              "    <tr>\n",
              "      <th>0</th>\n",
              "      <td>0.0</td>\n",
              "      <td>0.010792</td>\n",
              "      <td>1</td>\n",
              "      <td>0</td>\n",
              "      <td>0</td>\n",
              "      <td>0.0</td>\n",
              "      <td>0.0</td>\n",
              "      <td>0.0</td>\n",
              "      <td>1.0</td>\n",
              "      <td>1.0</td>\n",
              "      <td>0.0</td>\n",
              "      <td>0.0</td>\n",
              "    </tr>\n",
              "    <tr>\n",
              "      <th>1</th>\n",
              "      <td>0.0</td>\n",
              "      <td>0.079137</td>\n",
              "      <td>1</td>\n",
              "      <td>0</td>\n",
              "      <td>0</td>\n",
              "      <td>0.0</td>\n",
              "      <td>0.0</td>\n",
              "      <td>0.0</td>\n",
              "      <td>1.0</td>\n",
              "      <td>1.0</td>\n",
              "      <td>0.0</td>\n",
              "      <td>0.0</td>\n",
              "    </tr>\n",
              "    <tr>\n",
              "      <th>2</th>\n",
              "      <td>0.0</td>\n",
              "      <td>0.023696</td>\n",
              "      <td>1</td>\n",
              "      <td>0</td>\n",
              "      <td>0</td>\n",
              "      <td>0.0</td>\n",
              "      <td>0.0</td>\n",
              "      <td>0.0</td>\n",
              "      <td>1.0</td>\n",
              "      <td>1.0</td>\n",
              "      <td>0.0</td>\n",
              "      <td>0.0</td>\n",
              "    </tr>\n",
              "    <tr>\n",
              "      <th>3</th>\n",
              "      <td>0.0</td>\n",
              "      <td>0.034447</td>\n",
              "      <td>1</td>\n",
              "      <td>5</td>\n",
              "      <td>0</td>\n",
              "      <td>0.0</td>\n",
              "      <td>0.0</td>\n",
              "      <td>0.0</td>\n",
              "      <td>1.0</td>\n",
              "      <td>1.0</td>\n",
              "      <td>0.0</td>\n",
              "      <td>0.0</td>\n",
              "    </tr>\n",
              "    <tr>\n",
              "      <th>4</th>\n",
              "      <td>0.0</td>\n",
              "      <td>0.035150</td>\n",
              "      <td>1</td>\n",
              "      <td>0</td>\n",
              "      <td>0</td>\n",
              "      <td>0.0</td>\n",
              "      <td>0.0</td>\n",
              "      <td>0.0</td>\n",
              "      <td>1.0</td>\n",
              "      <td>1.0</td>\n",
              "      <td>0.0</td>\n",
              "      <td>0.0</td>\n",
              "    </tr>\n",
              "    <tr>\n",
              "      <th>...</th>\n",
              "      <td>...</td>\n",
              "      <td>...</td>\n",
              "      <td>...</td>\n",
              "      <td>...</td>\n",
              "      <td>...</td>\n",
              "      <td>...</td>\n",
              "      <td>...</td>\n",
              "      <td>...</td>\n",
              "      <td>...</td>\n",
              "      <td>...</td>\n",
              "      <td>...</td>\n",
              "      <td>...</td>\n",
              "    </tr>\n",
              "    <tr>\n",
              "      <th>569995</th>\n",
              "      <td>0.0</td>\n",
              "      <td>0.009447</td>\n",
              "      <td>0</td>\n",
              "      <td>0</td>\n",
              "      <td>1</td>\n",
              "      <td>0.0</td>\n",
              "      <td>0.0</td>\n",
              "      <td>0.0</td>\n",
              "      <td>1.0</td>\n",
              "      <td>1.0</td>\n",
              "      <td>0.0</td>\n",
              "      <td>0.0</td>\n",
              "    </tr>\n",
              "    <tr>\n",
              "      <th>569996</th>\n",
              "      <td>0.0</td>\n",
              "      <td>0.009158</td>\n",
              "      <td>0</td>\n",
              "      <td>0</td>\n",
              "      <td>0</td>\n",
              "      <td>0.0</td>\n",
              "      <td>0.0</td>\n",
              "      <td>0.0</td>\n",
              "      <td>1.0</td>\n",
              "      <td>1.0</td>\n",
              "      <td>0.0</td>\n",
              "      <td>0.0</td>\n",
              "    </tr>\n",
              "    <tr>\n",
              "      <th>569997</th>\n",
              "      <td>0.0</td>\n",
              "      <td>0.028549</td>\n",
              "      <td>0</td>\n",
              "      <td>0</td>\n",
              "      <td>1</td>\n",
              "      <td>0.0</td>\n",
              "      <td>0.0</td>\n",
              "      <td>0.0</td>\n",
              "      <td>1.0</td>\n",
              "      <td>1.0</td>\n",
              "      <td>0.0</td>\n",
              "      <td>0.0</td>\n",
              "    </tr>\n",
              "    <tr>\n",
              "      <th>569998</th>\n",
              "      <td>0.0</td>\n",
              "      <td>0.020747</td>\n",
              "      <td>0</td>\n",
              "      <td>0</td>\n",
              "      <td>1</td>\n",
              "      <td>0.0</td>\n",
              "      <td>0.0</td>\n",
              "      <td>0.0</td>\n",
              "      <td>1.0</td>\n",
              "      <td>1.0</td>\n",
              "      <td>0.0</td>\n",
              "      <td>0.0</td>\n",
              "    </tr>\n",
              "    <tr>\n",
              "      <th>569999</th>\n",
              "      <td>0.0</td>\n",
              "      <td>0.000000</td>\n",
              "      <td>0</td>\n",
              "      <td>0</td>\n",
              "      <td>0</td>\n",
              "      <td>0.0</td>\n",
              "      <td>0.0</td>\n",
              "      <td>0.0</td>\n",
              "      <td>1.0</td>\n",
              "      <td>1.0</td>\n",
              "      <td>0.0</td>\n",
              "      <td>0.0</td>\n",
              "    </tr>\n",
              "  </tbody>\n",
              "</table>\n",
              "<p>570000 rows × 12 columns</p>\n",
              "</div>\n",
              "      <button class=\"colab-df-convert\" onclick=\"convertToInteractive('df-3609180e-46c2-4282-bf4b-c06b81f174a0')\"\n",
              "              title=\"Convert this dataframe to an interactive table.\"\n",
              "              style=\"display:none;\">\n",
              "        \n",
              "  <svg xmlns=\"http://www.w3.org/2000/svg\" height=\"24px\"viewBox=\"0 0 24 24\"\n",
              "       width=\"24px\">\n",
              "    <path d=\"M0 0h24v24H0V0z\" fill=\"none\"/>\n",
              "    <path d=\"M18.56 5.44l.94 2.06.94-2.06 2.06-.94-2.06-.94-.94-2.06-.94 2.06-2.06.94zm-11 1L8.5 8.5l.94-2.06 2.06-.94-2.06-.94L8.5 2.5l-.94 2.06-2.06.94zm10 10l.94 2.06.94-2.06 2.06-.94-2.06-.94-.94-2.06-.94 2.06-2.06.94z\"/><path d=\"M17.41 7.96l-1.37-1.37c-.4-.4-.92-.59-1.43-.59-.52 0-1.04.2-1.43.59L10.3 9.45l-7.72 7.72c-.78.78-.78 2.05 0 2.83L4 21.41c.39.39.9.59 1.41.59.51 0 1.02-.2 1.41-.59l7.78-7.78 2.81-2.81c.8-.78.8-2.07 0-2.86zM5.41 20L4 18.59l7.72-7.72 1.47 1.35L5.41 20z\"/>\n",
              "  </svg>\n",
              "      </button>\n",
              "      \n",
              "  <style>\n",
              "    .colab-df-container {\n",
              "      display:flex;\n",
              "      flex-wrap:wrap;\n",
              "      gap: 12px;\n",
              "    }\n",
              "\n",
              "    .colab-df-convert {\n",
              "      background-color: #E8F0FE;\n",
              "      border: none;\n",
              "      border-radius: 50%;\n",
              "      cursor: pointer;\n",
              "      display: none;\n",
              "      fill: #1967D2;\n",
              "      height: 32px;\n",
              "      padding: 0 0 0 0;\n",
              "      width: 32px;\n",
              "    }\n",
              "\n",
              "    .colab-df-convert:hover {\n",
              "      background-color: #E2EBFA;\n",
              "      box-shadow: 0px 1px 2px rgba(60, 64, 67, 0.3), 0px 1px 3px 1px rgba(60, 64, 67, 0.15);\n",
              "      fill: #174EA6;\n",
              "    }\n",
              "\n",
              "    [theme=dark] .colab-df-convert {\n",
              "      background-color: #3B4455;\n",
              "      fill: #D2E3FC;\n",
              "    }\n",
              "\n",
              "    [theme=dark] .colab-df-convert:hover {\n",
              "      background-color: #434B5C;\n",
              "      box-shadow: 0px 1px 3px 1px rgba(0, 0, 0, 0.15);\n",
              "      filter: drop-shadow(0px 1px 2px rgba(0, 0, 0, 0.3));\n",
              "      fill: #FFFFFF;\n",
              "    }\n",
              "  </style>\n",
              "\n",
              "      <script>\n",
              "        const buttonEl =\n",
              "          document.querySelector('#df-3609180e-46c2-4282-bf4b-c06b81f174a0 button.colab-df-convert');\n",
              "        buttonEl.style.display =\n",
              "          google.colab.kernel.accessAllowed ? 'block' : 'none';\n",
              "\n",
              "        async function convertToInteractive(key) {\n",
              "          const element = document.querySelector('#df-3609180e-46c2-4282-bf4b-c06b81f174a0');\n",
              "          const dataTable =\n",
              "            await google.colab.kernel.invokeFunction('convertToInteractive',\n",
              "                                                     [key], {});\n",
              "          if (!dataTable) return;\n",
              "\n",
              "          const docLinkHtml = 'Like what you see? Visit the ' +\n",
              "            '<a target=\"_blank\" href=https://colab.research.google.com/notebooks/data_table.ipynb>data table notebook</a>'\n",
              "            + ' to learn more about interactive tables.';\n",
              "          element.innerHTML = '';\n",
              "          dataTable['output_type'] = 'display_data';\n",
              "          await google.colab.output.renderOutput(dataTable, element);\n",
              "          const docLink = document.createElement('div');\n",
              "          docLink.innerHTML = docLinkHtml;\n",
              "          element.appendChild(docLink);\n",
              "        }\n",
              "      </script>\n",
              "    </div>\n",
              "  </div>\n",
              "  "
            ],
            "text/plain": [
              "        Brand_Rx  Market_Rx  Sales_Rep_Calls  Samples_Dropped  \\\n",
              "0            0.0   0.010792                1                0   \n",
              "1            0.0   0.079137                1                0   \n",
              "2            0.0   0.023696                1                0   \n",
              "3            0.0   0.034447                1                5   \n",
              "4            0.0   0.035150                1                0   \n",
              "...          ...        ...              ...              ...   \n",
              "569995       0.0   0.009447                0                0   \n",
              "569996       0.0   0.009158                0                0   \n",
              "569997       0.0   0.028549                0                0   \n",
              "569998       0.0   0.020747                0                0   \n",
              "569999       0.0   0.000000                0                0   \n",
              "\n",
              "        Emails_Delivered  patient    0    1    2    3    4    5  \n",
              "0                      0      0.0  0.0  0.0  1.0  1.0  0.0  0.0  \n",
              "1                      0      0.0  0.0  0.0  1.0  1.0  0.0  0.0  \n",
              "2                      0      0.0  0.0  0.0  1.0  1.0  0.0  0.0  \n",
              "3                      0      0.0  0.0  0.0  1.0  1.0  0.0  0.0  \n",
              "4                      0      0.0  0.0  0.0  1.0  1.0  0.0  0.0  \n",
              "...                  ...      ...  ...  ...  ...  ...  ...  ...  \n",
              "569995                 1      0.0  0.0  0.0  1.0  1.0  0.0  0.0  \n",
              "569996                 0      0.0  0.0  0.0  1.0  1.0  0.0  0.0  \n",
              "569997                 1      0.0  0.0  0.0  1.0  1.0  0.0  0.0  \n",
              "569998                 1      0.0  0.0  0.0  1.0  1.0  0.0  0.0  \n",
              "569999                 0      0.0  0.0  0.0  1.0  1.0  0.0  0.0  \n",
              "\n",
              "[570000 rows x 12 columns]"
            ]
          },
          "execution_count": 21,
          "metadata": {},
          "output_type": "execute_result"
        }
      ],
      "source": [
        "df"
      ]
    },
    {
      "cell_type": "code",
      "execution_count": null,
      "metadata": {
        "id": "DG2M01B9c2pb"
      },
      "outputs": [],
      "source": [
        "#df.to_csv('dataClean.csv', index = False)\n",
        "df = pd.read_csv('dataClean.csv')"
      ]
    },
    {
      "cell_type": "code",
      "execution_count": null,
      "metadata": {
        "id": "wFeKwtJLeYma"
      },
      "outputs": [],
      "source": [
        "data_scaled = df.to_numpy()"
      ]
    },
    {
      "cell_type": "code",
      "execution_count": null,
      "metadata": {
        "id": "0I7YLx44QPbB"
      },
      "outputs": [],
      "source": [
        "data_scaled[:, 2:5][data_scaled[:, 2:5] > 0] = 1  #setting channels column value with non zero value to 1"
      ]
    },
    {
      "cell_type": "code",
      "execution_count": null,
      "metadata": {
        "id": "hjCJPo-e-iRV"
      },
      "outputs": [],
      "source": [
        "features=data_scaled[:, 1:]\n",
        "target=data_scaled[:,[1, 5]]"
      ]
    },
    {
      "cell_type": "code",
      "execution_count": null,
      "metadata": {
        "id": "NiTjeSmuR9Q3"
      },
      "outputs": [],
      "source": [
        "X = []\n",
        "Y = []\n",
        "Y2 = []"
      ]
    },
    {
      "cell_type": "code",
      "execution_count": null,
      "metadata": {
        "id": "2W_UZXl1PeJh"
      },
      "outputs": [],
      "source": [
        "for i in range(0, 10000):\n",
        "  for j in range(0, 5):\n",
        "    s_id = i*57+j\n",
        "    e_id = s_id+52\n",
        "    X.append(features[s_id:e_id, :])\n",
        "    Y.append(target[e_id:e_id+1, :1])\n",
        "    Y2.append(target[e_id:e_id+1, 1:])"
      ]
    },
    {
      "cell_type": "code",
      "execution_count": null,
      "metadata": {
        "id": "LkjXhkNkTsxx"
      },
      "outputs": [],
      "source": [
        "X = np.array(X)\n",
        "Y = np.array(Y)\n",
        "Y2 = np.array(Y2)"
      ]
    },
    {
      "cell_type": "code",
      "execution_count": null,
      "metadata": {
        "colab": {
          "base_uri": "https://localhost:8080/"
        },
        "id": "3ICKBFwVF6-j",
        "outputId": "2a5174f0-ca19-471d-a65f-c6b7c70557f0"
      },
      "outputs": [
        {
          "output_type": "execute_result",
          "data": {
            "text/plain": [
              "array([[0.],\n",
              "       [0.],\n",
              "       [0.],\n",
              "       ...,\n",
              "       [0.],\n",
              "       [0.],\n",
              "       [0.]])"
            ]
          },
          "metadata": {},
          "execution_count": 11
        }
      ],
      "source": [
        "Y.reshape((50000, 1))\n",
        "Y2.reshape((50000, 1))"
      ]
    },
    {
      "cell_type": "code",
      "execution_count": null,
      "metadata": {
        "id": "VyWvUN3iTweI"
      },
      "outputs": [],
      "source": [
        "from sklearn.model_selection import train_test_split\n",
        "\n",
        "x_train, x_test, y_train, y_test = train_test_split(X, Y, test_size=0.2, random_state=123, shuffle = True)\n",
        "x_train3, x_test3, y_train3, y_test3 = train_test_split(X, Y2, test_size=0.2, random_state=123, shuffle = True)"
      ]
    },
    {
      "cell_type": "code",
      "execution_count": null,
      "metadata": {
        "id": "2NXgBxvtdDu9"
      },
      "outputs": [],
      "source": [
        "import tensorflow as tf"
      ]
    },
    {
      "cell_type": "code",
      "execution_count": null,
      "metadata": {
        "id": "Dw403-CxdpsD"
      },
      "outputs": [],
      "source": [
        "win_length = 52\n",
        "num_features = 11\n",
        "output_feature = 1"
      ]
    },
    {
      "cell_type": "code",
      "execution_count": null,
      "metadata": {
        "id": "LqZEyxy0UIwF"
      },
      "outputs": [],
      "source": [
        "model = tf.keras.Sequential()\n",
        "model.add(tf.keras.layers.LSTM(128, input_shape= (win_length, num_features), return_sequences=True))\n",
        "model.add(tf.keras.layers.LeakyReLU(alpha=0.4)) \n",
        "model.add(tf.keras.layers.LSTM(128, return_sequences=True))\n",
        "model.add(tf.keras.layers.LeakyReLU(alpha=0.4)) \n",
        "#model.add(tf.keras.layers.Dropout(0.3)) \n",
        "model.add(tf.keras.layers.LSTM(64, return_sequences=False))\n",
        "#model.add(tf.keras.layers.Dropout(0.3)) \n",
        "model.add(tf.keras.layers.Dense(output_feature)\n",
        "\n",
        "#early_stopping = tf.keras.callbacks.EarlyStopping(monitor='val_loss',\n",
        "                                                    # patience=2,\n",
        "                                                    # mode='min')\n",
        "\n",
        "model.compile(loss=tf.losses.MeanSquaredError(),\n",
        "              optimizer=tf.optimizers.Adam(),\n",
        "              metrics=[tf.metrics.MeanAbsoluteError()])"
      ]
    },
    {
      "cell_type": "code",
      "execution_count": null,
      "metadata": {
        "colab": {
          "base_uri": "https://localhost:8080/"
        },
        "id": "NssJFljIeJCN",
        "outputId": "6d73ed1d-ab64-44d8-a062-2c9ee7379c44"
      },
      "outputs": [
        {
          "output_type": "stream",
          "name": "stdout",
          "text": [
            "Epoch 1/30\n",
            "1250/1250 [==============================] - 208s 166ms/step - loss: 2.7931e-04 - mean_absolute_error: 0.0118\n",
            "Epoch 2/30\n",
            "1250/1250 [==============================] - 204s 163ms/step - loss: 2.7770e-04 - mean_absolute_error: 0.0118\n",
            "Epoch 3/30\n",
            "1250/1250 [==============================] - 209s 167ms/step - loss: 2.7464e-04 - mean_absolute_error: 0.0117\n",
            "Epoch 4/30\n",
            "1250/1250 [==============================] - 208s 166ms/step - loss: 2.7289e-04 - mean_absolute_error: 0.0117\n",
            "Epoch 5/30\n",
            "1250/1250 [==============================] - 207s 166ms/step - loss: 2.7098e-04 - mean_absolute_error: 0.0117\n",
            "Epoch 6/30\n",
            "1250/1250 [==============================] - 205s 164ms/step - loss: 2.6730e-04 - mean_absolute_error: 0.0116\n",
            "Epoch 7/30\n",
            "1250/1250 [==============================] - 208s 166ms/step - loss: 2.6512e-04 - mean_absolute_error: 0.0116\n",
            "Epoch 8/30\n",
            "1250/1250 [==============================] - 207s 165ms/step - loss: 2.6488e-04 - mean_absolute_error: 0.0116\n",
            "Epoch 9/30\n",
            "1250/1250 [==============================] - 203s 163ms/step - loss: 2.6102e-04 - mean_absolute_error: 0.0115\n",
            "Epoch 10/30\n",
            "1250/1250 [==============================] - 207s 166ms/step - loss: 2.6184e-04 - mean_absolute_error: 0.0115\n",
            "Epoch 11/30\n",
            "1250/1250 [==============================] - 207s 166ms/step - loss: 2.5786e-04 - mean_absolute_error: 0.0114\n",
            "Epoch 12/30\n",
            "1250/1250 [==============================] - 207s 165ms/step - loss: 2.5571e-04 - mean_absolute_error: 0.0114\n",
            "Epoch 13/30\n",
            "1250/1250 [==============================] - 203s 162ms/step - loss: 2.5235e-04 - mean_absolute_error: 0.0114\n",
            "Epoch 14/30\n",
            "1250/1250 [==============================] - 207s 166ms/step - loss: 2.4997e-04 - mean_absolute_error: 0.0113\n",
            "Epoch 15/30\n",
            "1250/1250 [==============================] - 207s 166ms/step - loss: 2.4767e-04 - mean_absolute_error: 0.0113\n",
            "Epoch 16/30\n",
            "1250/1250 [==============================] - 207s 166ms/step - loss: 2.4603e-04 - mean_absolute_error: 0.0112\n",
            "Epoch 17/30\n",
            "1250/1250 [==============================] - 204s 163ms/step - loss: 2.4201e-04 - mean_absolute_error: 0.0111\n",
            "Epoch 18/30\n",
            "1250/1250 [==============================] - 207s 166ms/step - loss: 2.4051e-04 - mean_absolute_error: 0.0111\n",
            "Epoch 19/30\n",
            "1250/1250 [==============================] - 208s 166ms/step - loss: 2.3741e-04 - mean_absolute_error: 0.0110\n",
            "Epoch 20/30\n",
            "1250/1250 [==============================] - 207s 166ms/step - loss: 2.3539e-04 - mean_absolute_error: 0.0110\n",
            "Epoch 21/30\n",
            "1250/1250 [==============================] - 208s 166ms/step - loss: 2.3482e-04 - mean_absolute_error: 0.0110\n",
            "Epoch 22/30\n",
            "1250/1250 [==============================] - 203s 162ms/step - loss: 2.3022e-04 - mean_absolute_error: 0.0109\n",
            "Epoch 23/30\n",
            "1250/1250 [==============================] - 207s 166ms/step - loss: 2.2990e-04 - mean_absolute_error: 0.0109\n",
            "Epoch 24/30\n",
            "1250/1250 [==============================] - 208s 167ms/step - loss: 2.2698e-04 - mean_absolute_error: 0.0108\n",
            "Epoch 25/30\n",
            "1250/1250 [==============================] - 208s 166ms/step - loss: 2.2419e-04 - mean_absolute_error: 0.0108\n",
            "Epoch 26/30\n",
            "1250/1250 [==============================] - 204s 163ms/step - loss: 2.2034e-04 - mean_absolute_error: 0.0107\n",
            "Epoch 27/30\n",
            "1250/1250 [==============================] - 210s 168ms/step - loss: 2.1899e-04 - mean_absolute_error: 0.0107\n",
            "Epoch 28/30\n",
            "1250/1250 [==============================] - 209s 168ms/step - loss: 2.1730e-04 - mean_absolute_error: 0.0106\n",
            "Epoch 29/30\n",
            "1250/1250 [==============================] - 209s 167ms/step - loss: 2.1633e-04 - mean_absolute_error: 0.0106\n",
            "Epoch 30/30\n",
            "1250/1250 [==============================] - 205s 164ms/step - loss: 2.1174e-04 - mean_absolute_error: 0.0105\n"
          ]
        }
      ],
      "source": [
        "\n",
        "\n",
        "history = model.fit(x_train, y_train, epochs=30,\n",
        "                    batch_size = 32,\n",
        "                    shuffle=True)\n",
        "                    # callbacks=[early_stopping]"
      ]
    },
    {
      "cell_type": "code",
      "execution_count": null,
      "metadata": {
        "id": "GXGm7_56hbBp"
      },
      "outputs": [],
      "source": [
        "#model_11 = model\n",
        "model.save('modelRxwithX.h5')\n",
        "#model = tf.keras.models.load_model('modelRx.h5')"
      ]
    },
    {
      "cell_type": "code",
      "execution_count": null,
      "metadata": {
        "id": "P4dsqx7PevIs"
      },
      "outputs": [],
      "source": [
        "model3 = tf.keras.Sequential()\n",
        "model3.add(tf.keras.layers.LSTM(128, input_shape= (win_length, num_features), return_sequences=True))\n",
        "model3.add(tf.keras.layers.LeakyReLU(alpha=0.4)) \n",
        "model3.add(tf.keras.layers.LSTM(128, return_sequences=True))\n",
        "model3.add(tf.keras.layers.LeakyReLU(alpha=0.4)) \n",
        "#model.add(tf.keras.layers.Dropout(0.3)) \n",
        "model3.add(tf.keras.layers.LSTM(64, return_sequences=False))\n",
        "#model.add(tf.keras.layers.Dropout(0.3)) \n",
        "model3.add(tf.keras.layers.Dense(output_feature))"
      ]
    },
    {
      "cell_type": "code",
      "execution_count": null,
      "metadata": {
        "colab": {
          "base_uri": "https://localhost:8080/"
        },
        "id": "MP1IuNJ-gsJJ",
        "outputId": "06bcc9ae-0c8d-44d1-82c1-4ae11514c2db"
      },
      "outputs": [
        {
          "name": "stdout",
          "output_type": "stream",
          "text": [
            "Epoch 1/10\n",
            "1250/1250 [==============================] - 243s 191ms/step - loss: 3.5524e-04 - mean_absolute_error: 0.0109\n",
            "Epoch 2/10\n",
            "1250/1250 [==============================] - 232s 186ms/step - loss: 2.6955e-04 - mean_absolute_error: 0.0098\n",
            "Epoch 3/10\n",
            "1250/1250 [==============================] - 231s 184ms/step - loss: 2.6146e-04 - mean_absolute_error: 0.0095\n",
            "Epoch 4/10\n",
            "1250/1250 [==============================] - 234s 187ms/step - loss: 2.7449e-04 - mean_absolute_error: 0.0096\n",
            "Epoch 5/10\n",
            "1250/1250 [==============================] - 231s 184ms/step - loss: 2.6299e-04 - mean_absolute_error: 0.0094\n",
            "Epoch 6/10\n",
            "1250/1250 [==============================] - 259s 208ms/step - loss: 2.5003e-04 - mean_absolute_error: 0.0091\n",
            "Epoch 7/10\n",
            "1250/1250 [==============================] - 249s 199ms/step - loss: 2.4942e-04 - mean_absolute_error: 0.0091\n",
            "Epoch 8/10\n",
            "1250/1250 [==============================] - 233s 187ms/step - loss: 2.4623e-04 - mean_absolute_error: 0.0090\n",
            "Epoch 9/10\n",
            "1250/1250 [==============================] - 243s 194ms/step - loss: 2.4901e-04 - mean_absolute_error: 0.0090\n",
            "Epoch 10/10\n",
            "1250/1250 [==============================] - 235s 188ms/step - loss: 2.4584e-04 - mean_absolute_error: 0.0090\n"
          ]
        }
      ],
      "source": [
        "model3.compile(loss=tf.losses.MeanSquaredError(),\n",
        "              optimizer=tf.optimizers.Adam(),\n",
        "              metrics=[tf.metrics.MeanAbsoluteError()])\n",
        "\n",
        "history = model3.fit(x_train3, y_train3, epochs=10,\n",
        "                    batch_size = 32,\n",
        "                    shuffle=True)\n",
        "                    # callbacks=[early_stopping]"
      ]
    },
    {
      "cell_type": "code",
      "execution_count": null,
      "metadata": {
        "id": "Q2TUL6BZfKk8"
      },
      "outputs": [],
      "source": [
        "# model_31 = model3\n",
        "# model3.save('weightspatient.h5')\n",
        "# model3 = tf.keras.models.load_model('weights.h5')"
      ]
    },
    {
      "cell_type": "code",
      "execution_count": null,
      "metadata": {
        "id": "YxOBpz66JGOV"
      },
      "outputs": [],
      "source": [
        "x_pred = []\n",
        "\n",
        "for i in range(1, 10001):\n",
        "  x_pred.append(data_scaled[i*57-52:i*57, 1:])\n",
        "\n",
        "x_pred = np.array(x_pred)"
      ]
    },
    {
      "cell_type": "code",
      "execution_count": null,
      "metadata": {
        "colab": {
          "base_uri": "https://localhost:8080/"
        },
        "id": "Qtuipjw9L_0Y",
        "outputId": "e0e5a2a5-b857-4eb6-ceba-fca0a4ca91f1"
      },
      "outputs": [
        {
          "name": "stdout",
          "output_type": "stream",
          "text": [
            "313/313 [==============================] - 27s 83ms/step\n",
            "313/313 [==============================] - 23s 69ms/step\n"
          ]
        }
      ],
      "source": [
        "model_output1 = model.predict(x_pred)\n",
        "model_output3 = model3.predict(x_pred)"
      ]
    },
    {
      "cell_type": "code",
      "execution_count": null,
      "metadata": {
        "id": "3FXR3Oh5qZQV"
      },
      "outputs": [],
      "source": [
        "x_train2, x_test2, y_train2, y_test2 = train_test_split(data_scaled[:, 1:], data_scaled[:, 0:1], test_size=0.000001, random_state=123, shuffle = True)"
      ]
    },
    {
      "cell_type": "code",
      "execution_count": null,
      "metadata": {
        "colab": {
          "base_uri": "https://localhost:8080/"
        },
        "id": "qVFXqvcwrAWY",
        "outputId": "da5c1db4-b5ac-47d4-e820-0edeb669ff91"
      },
      "outputs": [
        {
          "name": "stdout",
          "output_type": "stream",
          "text": [
            "Model: \"sequential_3\"\n",
            "_________________________________________________________________\n",
            " Layer (type)                Output Shape              Param #   \n",
            "=================================================================\n",
            " dense_8 (Dense)             (None, 128)               1536      \n",
            "                                                                 \n",
            " dense_9 (Dense)             (None, 64)                8256      \n",
            "                                                                 \n",
            " dense_10 (Dense)            (None, 64)                4160      \n",
            "                                                                 \n",
            " dense_11 (Dense)            (None, 32)                2080      \n",
            "                                                                 \n",
            " dense_12 (Dense)            (None, 8)                 264       \n",
            "                                                                 \n",
            " dense_13 (Dense)            (None, 1)                 9         \n",
            "                                                                 \n",
            "=================================================================\n",
            "Total params: 16,305\n",
            "Trainable params: 16,305\n",
            "Non-trainable params: 0\n",
            "_________________________________________________________________\n",
            "Epoch 1/15\n",
            "14250/14250 [==============================] - 46s 3ms/step - loss: 1.0045 - mae: 0.6032 - val_loss: 0.9258 - val_mae: 0.5547\n",
            "Epoch 2/15\n",
            "14250/14250 [==============================] - 42s 3ms/step - loss: 0.9473 - mae: 0.5753 - val_loss: 0.9097 - val_mae: 0.5548\n",
            "Epoch 3/15\n",
            "14250/14250 [==============================] - 40s 3ms/step - loss: 0.9277 - mae: 0.5671 - val_loss: 0.9183 - val_mae: 0.5853\n",
            "Epoch 4/15\n",
            "14250/14250 [==============================] - 40s 3ms/step - loss: 0.9178 - mae: 0.5632 - val_loss: 0.9018 - val_mae: 0.5528\n",
            "Epoch 5/15\n",
            "14250/14250 [==============================] - 40s 3ms/step - loss: 0.9147 - mae: 0.5640 - val_loss: 0.9123 - val_mae: 0.5615\n",
            "Epoch 6/15\n",
            "14250/14250 [==============================] - 41s 3ms/step - loss: 0.9056 - mae: 0.5622 - val_loss: 0.9078 - val_mae: 0.5509\n",
            "Epoch 7/15\n",
            "14250/14250 [==============================] - 40s 3ms/step - loss: 0.9048 - mae: 0.5615 - val_loss: 0.8917 - val_mae: 0.5587\n",
            "Epoch 8/15\n",
            "14250/14250 [==============================] - 41s 3ms/step - loss: 0.9020 - mae: 0.5616 - val_loss: 0.9065 - val_mae: 0.5524\n",
            "Epoch 9/15\n",
            "14250/14250 [==============================] - 40s 3ms/step - loss: 0.9042 - mae: 0.5615 - val_loss: 0.8981 - val_mae: 0.5481\n",
            "Epoch 10/15\n",
            "14250/14250 [==============================] - 40s 3ms/step - loss: 0.8983 - mae: 0.5604 - val_loss: 0.9033 - val_mae: 0.5712\n",
            "Epoch 11/15\n",
            "14250/14250 [==============================] - 40s 3ms/step - loss: 0.8994 - mae: 0.5608 - val_loss: 0.9335 - val_mae: 0.5717\n",
            "Epoch 12/15\n",
            "14250/14250 [==============================] - 40s 3ms/step - loss: 0.8952 - mae: 0.5599 - val_loss: 0.8916 - val_mae: 0.5563\n",
            "Epoch 13/15\n",
            "14250/14250 [==============================] - 43s 3ms/step - loss: 0.8976 - mae: 0.5602 - val_loss: 0.8898 - val_mae: 0.5599\n",
            "Epoch 14/15\n",
            "14250/14250 [==============================] - 39s 3ms/step - loss: 0.8965 - mae: 0.5600 - val_loss: 0.8914 - val_mae: 0.5670\n",
            "Epoch 15/15\n",
            "14250/14250 [==============================] - 40s 3ms/step - loss: 0.8924 - mae: 0.5601 - val_loss: 0.9252 - val_mae: 0.5856\n"
          ]
        }
      ],
      "source": [
        "model2 = tf.keras.Sequential()\n",
        "model2.add(tf.keras.layers.Dense(128, input_dim=11, activation='relu'))\n",
        "model2.add(tf.keras.layers.Dense(64, activation='relu'))\n",
        "model2.add(tf.keras.layers.Dense(64, activation='relu'))\n",
        "model2.add(tf.keras.layers.Dense(32, activation='relu'))\n",
        "model2.add(tf.keras.layers.Dense(8, activation='relu'))\n",
        "\n",
        "#Output layer\n",
        "model2.add(tf.keras.layers.Dense(1, activation='linear'))\n",
        "\n",
        "model2.compile(loss='mean_squared_error', optimizer='adam', metrics=['mae'])\n",
        "\n",
        "history = model2.fit(x_train2, y_train2, validation_split=0.2, epochs =15)"
      ]
    },
    {
      "cell_type": "code",
      "execution_count": null,
      "metadata": {
        "colab": {
          "base_uri": "https://localhost:8080/",
          "height": 295
        },
        "id": "EZF7Fpe9suYi",
        "outputId": "1034a793-44a2-4feb-a421-da73d4b1c0c4"
      },
      "outputs": [
        {
          "data": {
            "image/png": "[encoded data removed]",
            "text/plain": [
              "<Figure size 432x288 with 1 Axes>"
            ]
          },
          "metadata": {},
          "output_type": "display_data"
        }
      ],
      "source": [
        "loss = history.history['loss']\n",
        "val_loss = history.history['val_loss']\n",
        "epochs = range(1, len(loss) + 1)\n",
        "plt.plot(epochs, loss, 'y', label='Training loss')\n",
        "plt.plot(epochs, val_loss, 'r', label='Validation loss')\n",
        "plt.title('Training and validation loss')\n",
        "plt.xlabel('Epochs')\n",
        "plt.ylabel('Loss')\n",
        "plt.legend()\n",
        "plt.show()"
      ]
    },
    {
      "cell_type": "code",
      "execution_count": null,
      "metadata": {
        "id": "eSvUccp-4WZk"
      },
      "outputs": [],
      "source": [
        "# model2.save('weights2.h5')\n",
        "# model2 = tf.keras.models.load_model('weights2.h5')"
      ]
    },
    {
      "cell_type": "code",
      "execution_count": null,
      "metadata": {
        "id": "tUsm7pPJ9YmQ"
      },
      "outputs": [],
      "source": [
        "x_pred2 = df[0:570000:57].iloc[:, 1:]\n",
        "x_pred2 = x_pred2.reset_index()\n",
        "x_pred2 = x_pred2.drop(['index'], axis=1)"
      ]
    },
    {
      "cell_type": "code",
      "execution_count": null,
      "metadata": {
        "colab": {
          "base_uri": "https://localhost:8080/",
          "height": 424
        },
        "id": "cn1kMYO9w7Xb",
        "outputId": "a75502ee-ba63-47e4-d5c1-25920d0ae059"
      },
      "outputs": [
        {
          "data": {
            "text/html": [
              "\n",
              "  <div id=\"df-33f1ef2b-c564-492b-9e48-b55c0bcbf457\">\n",
              "    <div class=\"colab-df-container\">\n",
              "      <div>\n",
              "<style scoped>\n",
              "    .dataframe tbody tr th:only-of-type {\n",
              "        vertical-align: middle;\n",
              "    }\n",
              "\n",
              "    .dataframe tbody tr th {\n",
              "        vertical-align: top;\n",
              "    }\n",
              "\n",
              "    .dataframe thead th {\n",
              "        text-align: right;\n",
              "    }\n",
              "</style>\n",
              "<table border=\"1\" class=\"dataframe\">\n",
              "  <thead>\n",
              "    <tr style=\"text-align: right;\">\n",
              "      <th></th>\n",
              "      <th>Market_Rx</th>\n",
              "      <th>Sales_Rep_Calls</th>\n",
              "      <th>Samples_Dropped</th>\n",
              "      <th>Emails_Delivered</th>\n",
              "      <th>patient</th>\n",
              "      <th>0</th>\n",
              "      <th>1</th>\n",
              "      <th>2</th>\n",
              "      <th>3</th>\n",
              "      <th>4</th>\n",
              "      <th>5</th>\n",
              "    </tr>\n",
              "  </thead>\n",
              "  <tbody>\n",
              "    <tr>\n",
              "      <th>0</th>\n",
              "      <td>0.037773</td>\n",
              "      <td>1</td>\n",
              "      <td>0</td>\n",
              "      <td>0</td>\n",
              "      <td>0.003337</td>\n",
              "      <td>0.0</td>\n",
              "      <td>0.0</td>\n",
              "      <td>1.0</td>\n",
              "      <td>1.0</td>\n",
              "      <td>0.0</td>\n",
              "      <td>0.0</td>\n",
              "    </tr>\n",
              "    <tr>\n",
              "      <th>1</th>\n",
              "      <td>0.016259</td>\n",
              "      <td>0</td>\n",
              "      <td>0</td>\n",
              "      <td>0</td>\n",
              "      <td>0.003344</td>\n",
              "      <td>0.0</td>\n",
              "      <td>0.0</td>\n",
              "      <td>1.0</td>\n",
              "      <td>1.0</td>\n",
              "      <td>0.0</td>\n",
              "      <td>0.0</td>\n",
              "    </tr>\n",
              "    <tr>\n",
              "      <th>2</th>\n",
              "      <td>0.012183</td>\n",
              "      <td>0</td>\n",
              "      <td>0</td>\n",
              "      <td>0</td>\n",
              "      <td>0.003489</td>\n",
              "      <td>0.0</td>\n",
              "      <td>0.0</td>\n",
              "      <td>1.0</td>\n",
              "      <td>1.0</td>\n",
              "      <td>0.0</td>\n",
              "      <td>0.0</td>\n",
              "    </tr>\n",
              "    <tr>\n",
              "      <th>3</th>\n",
              "      <td>0.004038</td>\n",
              "      <td>0</td>\n",
              "      <td>0</td>\n",
              "      <td>0</td>\n",
              "      <td>0.002959</td>\n",
              "      <td>0.0</td>\n",
              "      <td>0.0</td>\n",
              "      <td>1.0</td>\n",
              "      <td>1.0</td>\n",
              "      <td>0.0</td>\n",
              "      <td>0.0</td>\n",
              "    </tr>\n",
              "    <tr>\n",
              "      <th>4</th>\n",
              "      <td>0.007876</td>\n",
              "      <td>1</td>\n",
              "      <td>0</td>\n",
              "      <td>0</td>\n",
              "      <td>0.021102</td>\n",
              "      <td>1.0</td>\n",
              "      <td>0.0</td>\n",
              "      <td>0.0</td>\n",
              "      <td>1.0</td>\n",
              "      <td>0.0</td>\n",
              "      <td>0.0</td>\n",
              "    </tr>\n",
              "    <tr>\n",
              "      <th>...</th>\n",
              "      <td>...</td>\n",
              "      <td>...</td>\n",
              "      <td>...</td>\n",
              "      <td>...</td>\n",
              "      <td>...</td>\n",
              "      <td>...</td>\n",
              "      <td>...</td>\n",
              "      <td>...</td>\n",
              "      <td>...</td>\n",
              "      <td>...</td>\n",
              "      <td>...</td>\n",
              "    </tr>\n",
              "    <tr>\n",
              "      <th>9995</th>\n",
              "      <td>0.017167</td>\n",
              "      <td>0</td>\n",
              "      <td>0</td>\n",
              "      <td>0</td>\n",
              "      <td>0.003529</td>\n",
              "      <td>0.0</td>\n",
              "      <td>0.0</td>\n",
              "      <td>1.0</td>\n",
              "      <td>1.0</td>\n",
              "      <td>0.0</td>\n",
              "      <td>0.0</td>\n",
              "    </tr>\n",
              "    <tr>\n",
              "      <th>9996</th>\n",
              "      <td>0.000059</td>\n",
              "      <td>0</td>\n",
              "      <td>0</td>\n",
              "      <td>0</td>\n",
              "      <td>0.006173</td>\n",
              "      <td>0.0</td>\n",
              "      <td>1.0</td>\n",
              "      <td>0.0</td>\n",
              "      <td>0.0</td>\n",
              "      <td>0.0</td>\n",
              "      <td>1.0</td>\n",
              "    </tr>\n",
              "    <tr>\n",
              "      <th>9997</th>\n",
              "      <td>0.021809</td>\n",
              "      <td>0</td>\n",
              "      <td>0</td>\n",
              "      <td>0</td>\n",
              "      <td>0.003709</td>\n",
              "      <td>0.0</td>\n",
              "      <td>0.0</td>\n",
              "      <td>1.0</td>\n",
              "      <td>1.0</td>\n",
              "      <td>0.0</td>\n",
              "      <td>0.0</td>\n",
              "    </tr>\n",
              "    <tr>\n",
              "      <th>9998</th>\n",
              "      <td>0.009332</td>\n",
              "      <td>1</td>\n",
              "      <td>0</td>\n",
              "      <td>0</td>\n",
              "      <td>0.022975</td>\n",
              "      <td>1.0</td>\n",
              "      <td>0.0</td>\n",
              "      <td>0.0</td>\n",
              "      <td>1.0</td>\n",
              "      <td>0.0</td>\n",
              "      <td>0.0</td>\n",
              "    </tr>\n",
              "    <tr>\n",
              "      <th>9999</th>\n",
              "      <td>0.004495</td>\n",
              "      <td>0</td>\n",
              "      <td>0</td>\n",
              "      <td>1</td>\n",
              "      <td>0.002863</td>\n",
              "      <td>0.0</td>\n",
              "      <td>0.0</td>\n",
              "      <td>1.0</td>\n",
              "      <td>1.0</td>\n",
              "      <td>0.0</td>\n",
              "      <td>0.0</td>\n",
              "    </tr>\n",
              "  </tbody>\n",
              "</table>\n",
              "<p>10000 rows × 11 columns</p>\n",
              "</div>\n",
              "      <button class=\"colab-df-convert\" onclick=\"convertToInteractive('df-33f1ef2b-c564-492b-9e48-b55c0bcbf457')\"\n",
              "              title=\"Convert this dataframe to an interactive table.\"\n",
              "              style=\"display:none;\">\n",
              "        \n",
              "  <svg xmlns=\"http://www.w3.org/2000/svg\" height=\"24px\"viewBox=\"0 0 24 24\"\n",
              "       width=\"24px\">\n",
              "    <path d=\"M0 0h24v24H0V0z\" fill=\"none\"/>\n",
              "    <path d=\"M18.56 5.44l.94 2.06.94-2.06 2.06-.94-2.06-.94-.94-2.06-.94 2.06-2.06.94zm-11 1L8.5 8.5l.94-2.06 2.06-.94-2.06-.94L8.5 2.5l-.94 2.06-2.06.94zm10 10l.94 2.06.94-2.06 2.06-.94-2.06-.94-.94-2.06-.94 2.06-2.06.94z\"/><path d=\"M17.41 7.96l-1.37-1.37c-.4-.4-.92-.59-1.43-.59-.52 0-1.04.2-1.43.59L10.3 9.45l-7.72 7.72c-.78.78-.78 2.05 0 2.83L4 21.41c.39.39.9.59 1.41.59.51 0 1.02-.2 1.41-.59l7.78-7.78 2.81-2.81c.8-.78.8-2.07 0-2.86zM5.41 20L4 18.59l7.72-7.72 1.47 1.35L5.41 20z\"/>\n",
              "  </svg>\n",
              "      </button>\n",
              "      \n",
              "  <style>\n",
              "    .colab-df-container {\n",
              "      display:flex;\n",
              "      flex-wrap:wrap;\n",
              "      gap: 12px;\n",
              "    }\n",
              "\n",
              "    .colab-df-convert {\n",
              "      background-color: #E8F0FE;\n",
              "      border: none;\n",
              "      border-radius: 50%;\n",
              "      cursor: pointer;\n",
              "      display: none;\n",
              "      fill: #1967D2;\n",
              "      height: 32px;\n",
              "      padding: 0 0 0 0;\n",
              "      width: 32px;\n",
              "    }\n",
              "\n",
              "    .colab-df-convert:hover {\n",
              "      background-color: #E2EBFA;\n",
              "      box-shadow: 0px 1px 2px rgba(60, 64, 67, 0.3), 0px 1px 3px 1px rgba(60, 64, 67, 0.15);\n",
              "      fill: #174EA6;\n",
              "    }\n",
              "\n",
              "    [theme=dark] .colab-df-convert {\n",
              "      background-color: #3B4455;\n",
              "      fill: #D2E3FC;\n",
              "    }\n",
              "\n",
              "    [theme=dark] .colab-df-convert:hover {\n",
              "      background-color: #434B5C;\n",
              "      box-shadow: 0px 1px 3px 1px rgba(0, 0, 0, 0.15);\n",
              "      filter: drop-shadow(0px 1px 2px rgba(0, 0, 0, 0.3));\n",
              "      fill: #FFFFFF;\n",
              "    }\n",
              "  </style>\n",
              "\n",
              "      <script>\n",
              "        const buttonEl =\n",
              "          document.querySelector('#df-33f1ef2b-c564-492b-9e48-b55c0bcbf457 button.colab-df-convert');\n",
              "        buttonEl.style.display =\n",
              "          google.colab.kernel.accessAllowed ? 'block' : 'none';\n",
              "\n",
              "        async function convertToInteractive(key) {\n",
              "          const element = document.querySelector('#df-33f1ef2b-c564-492b-9e48-b55c0bcbf457');\n",
              "          const dataTable =\n",
              "            await google.colab.kernel.invokeFunction('convertToInteractive',\n",
              "                                                     [key], {});\n",
              "          if (!dataTable) return;\n",
              "\n",
              "          const docLinkHtml = 'Like what you see? Visit the ' +\n",
              "            '<a target=\"_blank\" href=https://colab.research.google.com/notebooks/data_table.ipynb>data table notebook</a>'\n",
              "            + ' to learn more about interactive tables.';\n",
              "          element.innerHTML = '';\n",
              "          dataTable['output_type'] = 'display_data';\n",
              "          await google.colab.output.renderOutput(dataTable, element);\n",
              "          const docLink = document.createElement('div');\n",
              "          docLink.innerHTML = docLinkHtml;\n",
              "          element.appendChild(docLink);\n",
              "        }\n",
              "      </script>\n",
              "    </div>\n",
              "  </div>\n",
              "  "
            ],
            "text/plain": [
              "      Market_Rx  Sales_Rep_Calls  Samples_Dropped  Emails_Delivered   patient  \\\n",
              "0      0.037773                1                0                 0  0.003337   \n",
              "1      0.016259                0                0                 0  0.003344   \n",
              "2      0.012183                0                0                 0  0.003489   \n",
              "3      0.004038                0                0                 0  0.002959   \n",
              "4      0.007876                1                0                 0  0.021102   \n",
              "...         ...              ...              ...               ...       ...   \n",
              "9995   0.017167                0                0                 0  0.003529   \n",
              "9996   0.000059                0                0                 0  0.006173   \n",
              "9997   0.021809                0                0                 0  0.003709   \n",
              "9998   0.009332                1                0                 0  0.022975   \n",
              "9999   0.004495                0                0                 1  0.002863   \n",
              "\n",
              "        0    1    2    3    4    5  \n",
              "0     0.0  0.0  1.0  1.0  0.0  0.0  \n",
              "1     0.0  0.0  1.0  1.0  0.0  0.0  \n",
              "2     0.0  0.0  1.0  1.0  0.0  0.0  \n",
              "3     0.0  0.0  1.0  1.0  0.0  0.0  \n",
              "4     1.0  0.0  0.0  1.0  0.0  0.0  \n",
              "...   ...  ...  ...  ...  ...  ...  \n",
              "9995  0.0  0.0  1.0  1.0  0.0  0.0  \n",
              "9996  0.0  1.0  0.0  0.0  0.0  1.0  \n",
              "9997  0.0  0.0  1.0  1.0  0.0  0.0  \n",
              "9998  1.0  0.0  0.0  1.0  0.0  0.0  \n",
              "9999  0.0  0.0  1.0  1.0  0.0  0.0  \n",
              "\n",
              "[10000 rows x 11 columns]"
            ]
          },
          "execution_count": 245,
          "metadata": {},
          "output_type": "execute_result"
        }
      ],
      "source": [
        "x_pred2"
      ]
    },
    {
      "cell_type": "code",
      "execution_count": null,
      "metadata": {
        "id": "7xV0cP4OXE6w"
      },
      "outputs": [],
      "source": [
        "x_pred2.iloc[:, 0] = pd.DataFrame(model_output1[:, 0])\n",
        "x_pred2.iloc[:, 4] = pd.DataFrame(model_output3[:, 0])"
      ]
    },
    {
      "cell_type": "code",
      "execution_count": null,
      "metadata": {
        "colab": {
          "base_uri": "https://localhost:8080/",
          "height": 424
        },
        "id": "PLtzxJfJaDKn",
        "outputId": "8372df0c-0fd8-41d5-eade-1b617df328de"
      },
      "outputs": [
        {
          "data": {
            "text/html": [
              "\n",
              "  <div id=\"df-10b41640-69b2-40f7-a153-d5dc796490ce\">\n",
              "    <div class=\"colab-df-container\">\n",
              "      <div>\n",
              "<style scoped>\n",
              "    .dataframe tbody tr th:only-of-type {\n",
              "        vertical-align: middle;\n",
              "    }\n",
              "\n",
              "    .dataframe tbody tr th {\n",
              "        vertical-align: top;\n",
              "    }\n",
              "\n",
              "    .dataframe thead th {\n",
              "        text-align: right;\n",
              "    }\n",
              "</style>\n",
              "<table border=\"1\" class=\"dataframe\">\n",
              "  <thead>\n",
              "    <tr style=\"text-align: right;\">\n",
              "      <th></th>\n",
              "      <th>Physician_ID</th>\n",
              "      <th>Physician_Segment</th>\n",
              "      <th>NoOfCalls</th>\n",
              "    </tr>\n",
              "  </thead>\n",
              "  <tbody>\n",
              "    <tr>\n",
              "      <th>0</th>\n",
              "      <td>axt00001</td>\n",
              "      <td>3-Low</td>\n",
              "      <td>31</td>\n",
              "    </tr>\n",
              "    <tr>\n",
              "      <th>1</th>\n",
              "      <td>axt00002</td>\n",
              "      <td>3-Low</td>\n",
              "      <td>9</td>\n",
              "    </tr>\n",
              "    <tr>\n",
              "      <th>2</th>\n",
              "      <td>axt00003</td>\n",
              "      <td>3-Low</td>\n",
              "      <td>9</td>\n",
              "    </tr>\n",
              "    <tr>\n",
              "      <th>3</th>\n",
              "      <td>axt00004</td>\n",
              "      <td>3-Low</td>\n",
              "      <td>13</td>\n",
              "    </tr>\n",
              "    <tr>\n",
              "      <th>4</th>\n",
              "      <td>axt00005</td>\n",
              "      <td>1-High</td>\n",
              "      <td>38</td>\n",
              "    </tr>\n",
              "    <tr>\n",
              "      <th>...</th>\n",
              "      <td>...</td>\n",
              "      <td>...</td>\n",
              "      <td>...</td>\n",
              "    </tr>\n",
              "    <tr>\n",
              "      <th>9995</th>\n",
              "      <td>axt09996</td>\n",
              "      <td>3-Low</td>\n",
              "      <td>9</td>\n",
              "    </tr>\n",
              "    <tr>\n",
              "      <th>9996</th>\n",
              "      <td>axt09997</td>\n",
              "      <td>2-Medium</td>\n",
              "      <td>2</td>\n",
              "    </tr>\n",
              "    <tr>\n",
              "      <th>9997</th>\n",
              "      <td>axt09998</td>\n",
              "      <td>3-Low</td>\n",
              "      <td>11</td>\n",
              "    </tr>\n",
              "    <tr>\n",
              "      <th>9998</th>\n",
              "      <td>axt09999</td>\n",
              "      <td>1-High</td>\n",
              "      <td>28</td>\n",
              "    </tr>\n",
              "    <tr>\n",
              "      <th>9999</th>\n",
              "      <td>axt10000</td>\n",
              "      <td>3-Low</td>\n",
              "      <td>0</td>\n",
              "    </tr>\n",
              "  </tbody>\n",
              "</table>\n",
              "<p>10000 rows × 3 columns</p>\n",
              "</div>\n",
              "      <button class=\"colab-df-convert\" onclick=\"convertToInteractive('df-10b41640-69b2-40f7-a153-d5dc796490ce')\"\n",
              "              title=\"Convert this dataframe to an interactive table.\"\n",
              "              style=\"display:none;\">\n",
              "        \n",
              "  <svg xmlns=\"http://www.w3.org/2000/svg\" height=\"24px\"viewBox=\"0 0 24 24\"\n",
              "       width=\"24px\">\n",
              "    <path d=\"M0 0h24v24H0V0z\" fill=\"none\"/>\n",
              "    <path d=\"M18.56 5.44l.94 2.06.94-2.06 2.06-.94-2.06-.94-.94-2.06-.94 2.06-2.06.94zm-11 1L8.5 8.5l.94-2.06 2.06-.94-2.06-.94L8.5 2.5l-.94 2.06-2.06.94zm10 10l.94 2.06.94-2.06 2.06-.94-2.06-.94-.94-2.06-.94 2.06-2.06.94z\"/><path d=\"M17.41 7.96l-1.37-1.37c-.4-.4-.92-.59-1.43-.59-.52 0-1.04.2-1.43.59L10.3 9.45l-7.72 7.72c-.78.78-.78 2.05 0 2.83L4 21.41c.39.39.9.59 1.41.59.51 0 1.02-.2 1.41-.59l7.78-7.78 2.81-2.81c.8-.78.8-2.07 0-2.86zM5.41 20L4 18.59l7.72-7.72 1.47 1.35L5.41 20z\"/>\n",
              "  </svg>\n",
              "      </button>\n",
              "      \n",
              "  <style>\n",
              "    .colab-df-container {\n",
              "      display:flex;\n",
              "      flex-wrap:wrap;\n",
              "      gap: 12px;\n",
              "    }\n",
              "\n",
              "    .colab-df-convert {\n",
              "      background-color: #E8F0FE;\n",
              "      border: none;\n",
              "      border-radius: 50%;\n",
              "      cursor: pointer;\n",
              "      display: none;\n",
              "      fill: #1967D2;\n",
              "      height: 32px;\n",
              "      padding: 0 0 0 0;\n",
              "      width: 32px;\n",
              "    }\n",
              "\n",
              "    .colab-df-convert:hover {\n",
              "      background-color: #E2EBFA;\n",
              "      box-shadow: 0px 1px 2px rgba(60, 64, 67, 0.3), 0px 1px 3px 1px rgba(60, 64, 67, 0.15);\n",
              "      fill: #174EA6;\n",
              "    }\n",
              "\n",
              "    [theme=dark] .colab-df-convert {\n",
              "      background-color: #3B4455;\n",
              "      fill: #D2E3FC;\n",
              "    }\n",
              "\n",
              "    [theme=dark] .colab-df-convert:hover {\n",
              "      background-color: #434B5C;\n",
              "      box-shadow: 0px 1px 3px 1px rgba(0, 0, 0, 0.15);\n",
              "      filter: drop-shadow(0px 1px 2px rgba(0, 0, 0, 0.3));\n",
              "      fill: #FFFFFF;\n",
              "    }\n",
              "  </style>\n",
              "\n",
              "      <script>\n",
              "        const buttonEl =\n",
              "          document.querySelector('#df-10b41640-69b2-40f7-a153-d5dc796490ce button.colab-df-convert');\n",
              "        buttonEl.style.display =\n",
              "          google.colab.kernel.accessAllowed ? 'block' : 'none';\n",
              "\n",
              "        async function convertToInteractive(key) {\n",
              "          const element = document.querySelector('#df-10b41640-69b2-40f7-a153-d5dc796490ce');\n",
              "          const dataTable =\n",
              "            await google.colab.kernel.invokeFunction('convertToInteractive',\n",
              "                                                     [key], {});\n",
              "          if (!dataTable) return;\n",
              "\n",
              "          const docLinkHtml = 'Like what you see? Visit the ' +\n",
              "            '<a target=\"_blank\" href=https://colab.research.google.com/notebooks/data_table.ipynb>data table notebook</a>'\n",
              "            + ' to learn more about interactive tables.';\n",
              "          element.innerHTML = '';\n",
              "          dataTable['output_type'] = 'display_data';\n",
              "          await google.colab.output.renderOutput(dataTable, element);\n",
              "          const docLink = document.createElement('div');\n",
              "          docLink.innerHTML = docLinkHtml;\n",
              "          element.appendChild(docLink);\n",
              "        }\n",
              "      </script>\n",
              "    </div>\n",
              "  </div>\n",
              "  "
            ],
            "text/plain": [
              "     Physician_ID Physician_Segment  NoOfCalls\n",
              "0        axt00001             3-Low         31\n",
              "1        axt00002             3-Low          9\n",
              "2        axt00003             3-Low          9\n",
              "3        axt00004             3-Low         13\n",
              "4        axt00005            1-High         38\n",
              "...           ...               ...        ...\n",
              "9995     axt09996             3-Low          9\n",
              "9996     axt09997          2-Medium          2\n",
              "9997     axt09998             3-Low         11\n",
              "9998     axt09999            1-High         28\n",
              "9999     axt10000             3-Low          0\n",
              "\n",
              "[10000 rows x 3 columns]"
            ]
          },
          "execution_count": 115,
          "metadata": {},
          "output_type": "execute_result"
        }
      ],
      "source": [
        "\n",
        "doctors"
      ]
    },
    {
      "cell_type": "code",
      "execution_count": null,
      "metadata": {
        "id": "GQCoaAlmWlBX"
      },
      "outputs": [],
      "source": [
        "x_pred2"
      ]
    },
    {
      "cell_type": "code",
      "execution_count": null,
      "metadata": {
        "id": "0wavk2ljArYC"
      },
      "outputs": [],
      "source": [
        "x_pred2_sales = x_pred2.copy()\n",
        "x_pred2_sample = x_pred2.copy()\n",
        "x_pred2_email = x_pred2.copy()\n",
        "\n",
        "x_pred2_sales.iloc[:, 1:4] = 1, 0, 0\n",
        "x_pred2_sample.iloc[:, 1:4] = 0, 1, 0\n",
        "x_pred2_email.iloc[:, 1:4] = 0, 0, 1"
      ]
    },
    {
      "cell_type": "code",
      "execution_count": null,
      "metadata": {
        "id": "J8qYEegJA5vj"
      },
      "outputs": [],
      "source": [
        "x_pred2_sales = np.array(x_pred2_sales)\n",
        "x_pred2_sample = np.array(x_pred2_sample)\n",
        "x_pred2_email = np.array(x_pred2_email)\n"
      ]
    },
    {
      "cell_type": "code",
      "execution_count": null,
      "metadata": {
        "colab": {
          "base_uri": "https://localhost:8080/"
        },
        "id": "kd5XE1iyCtgg",
        "outputId": "98188df1-fd9f-40e6-c8d4-424360b34eed"
      },
      "outputs": [
        {
          "name": "stdout",
          "output_type": "stream",
          "text": [
            "313/313 [==============================] - 0s 1ms/step\n",
            "313/313 [==============================] - 0s 1ms/step\n",
            "313/313 [==============================] - 0s 1ms/step\n"
          ]
        }
      ],
      "source": [
        "y_sales = model2.predict(x_pred2_sales)\n",
        "y_sample = model2.predict(x_pred2_sample)\n",
        "y_email = model2.predict(x_pred2_email)"
      ]
    },
    {
      "cell_type": "code",
      "execution_count": null,
      "metadata": {
        "id": "S-UPdbhnaF1V"
      },
      "outputs": [],
      "source": [
        "y_sales = y_sales[:, np.newaxis]\n",
        "y_sample = y_sample[:, np.newaxis]\n",
        "y_email = y_email[:, np.newaxis]"
      ]
    },
    {
      "cell_type": "code",
      "execution_count": null,
      "metadata": {
        "id": "SqCJmPxcVaq8"
      },
      "outputs": [],
      "source": [
        "channel_rx = np.concatenate((y_sales, y_sample, y_email), axis = 1)"
      ]
    },
    {
      "cell_type": "code",
      "execution_count": null,
      "metadata": {
        "id": "wm2LBc86_P8G"
      },
      "outputs": [],
      "source": [
        "#n = 2500 provides 0.4271\n",
        "n = 0\n",
        "sampleId = sorted(range(len(y_sample)), key = lambda sub: y_sample[sub])[-2500:]\n",
        "sampleId = sorted(sampleId)"
      ]
    },
    {
      "cell_type": "code",
      "execution_count": null,
      "metadata": {
        "id": "XtDidqdUZn3g"
      },
      "outputs": [],
      "source": [
        "channel = np.argmax(channel_rx, axis = 1)\n",
        "brandRx = np.amax(channel_rx, axis = 1)\n"
      ]
    },
    {
      "cell_type": "code",
      "execution_count": null,
      "metadata": {
        "id": "f-fKxrU_eXDU"
      },
      "outputs": [],
      "source": [
        "sId = 0\n",
        "k = 0\n",
        "\n",
        "\n",
        "\n",
        "#for a2 = 0.4, a1 = 0 accuracy is 52.999\n",
        "a1 = 0\n",
        "a2 = 0.4\n",
        "spCt = 0\n",
        "\n",
        "for i in range(0, 10000):\n",
        "  phy_seg = doctors.iloc[i, 1][0]\n",
        "  callsNo = doctors.iloc[i, 2]\n",
        "\n",
        "  while sId < 2500 and sampleId[sId] < i:\n",
        "    sId += 1\n",
        "\n",
        "  if (phy_seg == '1' and callsNo >= 48) or (phy_seg == '2' and callsNo >= 24) or (phy_seg == '3' and callsNo >= 12):\n",
        "    if channel_rx[i, 1] > channel_rx[i, 2]+a1 and spCt < 2500 :\n",
        "      channel[i] = 1\n",
        "      brandRx[i] = channel_rx[i, 1]\n",
        "      spCt += 1\n",
        "    else:\n",
        "      channel[i] = 2\n",
        "      brandRx[i] = channel_rx[i, 2]\n",
        "  elif spCt < 2500:\n",
        "    channel[i] = np.argmax(channel_rx[i], axis = 0)\n",
        "    brandRx[i] =  np.amax(channel_rx[i], axis = 0)\n",
        "    spCt += (channel[i] == 1)\n",
        "  else:\n",
        "    if channel_rx[i, 0]+a2 > channel_rx[i, 2]:\n",
        "      channel[i] = 0\n",
        "      brandRx[i] = channel_rx[i, 0]\n",
        "    else:\n",
        "      channel[i] = 2\n",
        "      brandRx[i] = channel_rx[i, 2]"
      ]
    },
    {
      "cell_type": "code",
      "execution_count": null,
      "metadata": {
        "colab": {
          "base_uri": "https://localhost:8080/"
        },
        "id": "xjhaVn8HAVgU",
        "outputId": "e4591139-7ab6-4aaf-d6cd-ace94f77b0a1"
      },
      "outputs": [
        {
          "name": "stdout",
          "output_type": "stream",
          "text": [
            "1104\n"
          ]
        }
      ],
      "source": [
        "\n",
        "\"\"\"\n",
        "sId = 0\n",
        "k = 0\n",
        "for i in range(0, 10000):\n",
        "  if sId < 2500 and sampleId[sId] == i:\n",
        "    channel[i] = 1\n",
        "    brandRx[i] = channel_rx[i, 1]\n",
        "    sId += 1\n",
        "  elif channel_rx[i, 0] > channel_rx[i, 2]:\n",
        "    phy_seg = doctors.iloc[i, 1][0]\n",
        "    callsNo = doctors.iloc[i, 2]\n",
        "\n",
        "    if (phy_seg == '1' and callsNo >= 48) or (phy_seg == '2' and callsNo >= 24) or (phy_seg == '3' and callsNo >= 12):\n",
        "       k += 1\n",
        "       channel[i] = 2\n",
        "       brandRx[i] = channel_rx[i, 2]\n",
        "    else:\n",
        "      channel[i] = 0\n",
        "      brandRx[i] = channel_rx[i, 0]\n",
        "    \n",
        "    channel[i] = 0\n",
        "    brandRx[i] = channel_rx[i, 0]\n",
        "  else:\n",
        "    channel[i] = 2\n",
        "    brandRx[i] = channel_rx[i, 2]\n",
        "\n",
        "print(k)\"\"\"\n",
        "\n"
      ]
    },
    {
      "cell_type": "code",
      "execution_count": null,
      "metadata": {
        "colab": {
          "base_uri": "https://localhost:8080/"
        },
        "id": "LFbO-ygG6XLP",
        "outputId": "6de52f51-3c2a-4708-db3e-aae885c25d4c"
      },
      "outputs": [
        {
          "data": {
            "text/plain": [
              "3983"
            ]
          },
          "execution_count": 294,
          "metadata": {},
          "output_type": "execute_result"
        }
      ],
      "source": [
        "np.count_nonzero(channel == 0)"
      ]
    },
    {
      "cell_type": "code",
      "execution_count": null,
      "metadata": {
        "colab": {
          "base_uri": "https://localhost:8080/"
        },
        "id": "OFausWCGuBph",
        "outputId": "459428d7-03a0-49c6-fc30-ad0ee67a3bf2"
      },
      "outputs": [
        {
          "name": "stderr",
          "output_type": "stream",
          "text": [
            "<ipython-input-295-00e51ed0029c>:1: FutureWarning: Indexing a DataFrame with a datetimelike index using a single string to slice the rows, like `frame[string]`, is deprecated and will be removed in a future version. Use `frame.loc[string]` instead.\n",
            "  lastWeekRx = df_timeIndexed['2020-01-31']['Brand_Rx'].sum()\n"
          ]
        }
      ],
      "source": [
        " lastWeekRx = df_timeIndexed['2020-01-31']['Brand_Rx'].sum()\n",
        " lastWeekRx = lastWeekRx*1.1\n",
        "\n",
        " brandRxAgg = np.sum(brandRx)\n",
        " brandRx = brandRx*(lastWeekRx/brandRxAgg)"
      ]
    },
    {
      "cell_type": "code",
      "execution_count": null,
      "metadata": {
        "id": "EjfOHGCcWWpP"
      },
      "outputs": [],
      "source": [
        "brandRxPd = pd.DataFrame(brandRx, columns = ['Expected_TRx'])\n",
        "channelPd = pd.DataFrame(channel, columns = ['channel'])\n",
        "\n",
        "bbrandRxPd = pd.concat([doctors['Physician_ID'], brandRxPd], axis = 1)\n",
        "channelPd = pd.concat([doctors['Physician_ID'], channelPd], axis = 1)\n"
      ]
    },
    {
      "cell_type": "code",
      "execution_count": null,
      "metadata": {
        "id": "QYEE66-Lds8F"
      },
      "outputs": [],
      "source": [
        "bbrandRxPd.to_csv('brandRx.csv', index = False)\n",
        "channelPd.to_csv('channel.csv', index = False)"
      ]
    },
    {
      "cell_type": "code",
      "execution_count": null,
      "metadata": {
        "id": "f2MuV0tbz5T4"
      },
      "outputs": [],
      "source": []
    }
  ],
  "metadata": {
    "colab": {
      "provenance": [],
      "include_colab_link": true
    },
    "kernelspec": {
      "display_name": "Python 3",
      "name": "python3"
    },
    "language_info": {
      "name": "python"
    }
  },
  "nbformat": 4,
  "nbformat_minor": 0
}